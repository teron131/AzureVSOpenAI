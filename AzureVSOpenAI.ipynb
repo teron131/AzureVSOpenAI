{
 "cells": [
  {
   "cell_type": "code",
   "execution_count": 7,
   "metadata": {},
   "outputs": [],
   "source": [
    "import json\n",
    "\n",
    "from langchain_core.prompts.chat import (\n",
    "    ChatPromptTemplate,\n",
    "    HumanMessagePromptTemplate,\n",
    "    SystemMessagePromptTemplate,\n",
    ")\n",
    "from langchain_community.callbacks.manager import get_openai_callback\n",
    "from langchain_core.output_parsers import StrOutputParser\n",
    "from langchain_core.runnables import RunnablePassthrough\n",
    "from langchain_openai.chat_models import ChatOpenAI\n",
    "from langchain_openai.chat_models.azure import AzureChatOpenAI\n",
    "\n",
    "\n",
    "def get_answer(system_prompt, question, model_name, provider):\n",
    "    prompt = ChatPromptTemplate(\n",
    "        messages=[\n",
    "            SystemMessagePromptTemplate.from_template(system_prompt),\n",
    "            HumanMessagePromptTemplate.from_template(\"{question}\"),\n",
    "        ]\n",
    "    )\n",
    "\n",
    "    if model_name == \"gpt-4\":\n",
    "        if provider == \"openai\":\n",
    "            model = ChatOpenAI(model=\"gpt-4-0613\", temperature=0.7, max_tokens=4096)\n",
    "        elif provider == \"azure\":\n",
    "            model = AzureChatOpenAI(model=\"gpt-4-32k\", temperature=0.7, max_tokens=4096)\n",
    "    elif model_name == \"gpt-4-turbo\":\n",
    "        if provider == \"openai\":\n",
    "            model = ChatOpenAI(model=\"gpt-4-0125-preview\", temperature=0.7, max_tokens=4096)\n",
    "        elif provider == \"azure\":\n",
    "            model = AzureChatOpenAI(model=\"gpt-4-0125-preview\", temperature=0.7, max_tokens=4096)\n",
    "    chain = RunnablePassthrough() | prompt | model | StrOutputParser()\n",
    "\n",
    "    with get_openai_callback() as callback:\n",
    "        response = chain.invoke({\"question\": question})\n",
    "        print(callback, end=\"\\n\\n\")\n",
    "    print(response)\n",
    "\n",
    "    responses_data = {\n",
    "        \"question\": question,\n",
    "        \"model\": model_name,\n",
    "        \"provider\": provider,\n",
    "        \"response\": response,\n",
    "    }\n",
    "\n",
    "    # Read existing data, append the new response, and write back to the file\n",
    "    try:\n",
    "        with open(\"responses.json\", \"r\") as file:\n",
    "            existing_data = json.load(file)\n",
    "    except (FileNotFoundError, json.JSONDecodeError):\n",
    "        existing_data = []\n",
    "\n",
    "    existing_data.append(responses_data)\n",
    "\n",
    "    with open(\"responses.json\", \"w\") as file:\n",
    "        json.dump(existing_data, file, indent=4)"
   ]
  },
  {
   "cell_type": "code",
   "execution_count": 8,
   "metadata": {},
   "outputs": [],
   "source": [
    "system_prompt = \"\"\"\n",
    "You are a science communicator specializing in astronomy. Your task is to elucidate the vastness of the universe to the general public, employing vivid size comparisons that are relatable in everyday life. For example, when describing a galaxy, you might liken it to a sea of stars, each potentially hosting its own worlds, akin to grains of sand on a beach. However, it's crucial to include actual data with numbers, such as distances in light-years, sizes in comparison to Earth or the Sun, and any pertinent scientific measurements. Your explanations should effectively bridge the gap between imaginative understanding and factual accuracy, rendering the marvels of the cosmos both accessible and fascinating to a broad audience.\n",
    "\"\"\"\n",
    "\n",
    "question = \"Describe Sagittarius A* and TON 618.\""
   ]
  },
  {
   "cell_type": "code",
   "execution_count": 9,
   "metadata": {},
   "outputs": [
    {
     "name": "stdout",
     "output_type": "stream",
     "text": [
      "Tokens Used: 634\n",
      "\tPrompt Tokens: 160\n",
      "\tCompletion Tokens: 474\n",
      "Successful Requests: 1\n",
      "Total Cost (USD): $0.03324\n",
      "\n",
      "Sagittarius A* is a fascinating feature of our Milky Way galaxy. It is a supermassive black hole located at the very heart of our galaxy, about 26,000 light-years away from Earth. To give you a perspective, one light-year is approximately 5.88 trillion miles, so imagine the sheer distance we're talking about here! Sagittarius A* is about four million times the mass of our Sun. If we were to compare this to something relatable, that's like taking 4 million Suns, squishing them together, and fitting them right into your neighborhood.\n",
      "\n",
      "Sagittarius A* is relatively silent and inactive for a black hole, but it occasionally flares up as it swallows matter that gets too close. To paint a picture for you, imagine a sleeping giant who only occasionally wakes up for a meal. However, don't let its current state fool you. Astronomers believe that Sagittarius A* was once very active and may have played a significant role in the formation and evolution of our galaxy.\n",
      "\n",
      "Now, if Sagittarius A* is a sleeping giant, then TON 618 is an awakened titan. TON 618 is a very distant celestial object, a quasar, located about 10.4 billion light-years away from us. It's home to one of the largest known black holes in the universe, a true monster. The black hole at the center of TON 618 is estimated to be 66 billion times the mass of our Sun. That's a number so vast it's hard to even comprehend. \n",
      "\n",
      "To put it into perspective, consider this: if the Sun were the size of a tennis ball, Sagittarius A* would be about the size of Mount Everest. But TON 618's black hole would be roughly the size of the entire Earth! This cosmic beast is so massive that it could swallow our entire solar system and still have room for thousands more. \n",
      "\n",
      "In conclusion, both Sagittarius A* and TON 618 are fascinating cosmic entities, one at the heart of our galaxy and the other in the farthest reaches of the known universe. Both are supermassive black holes, but the scale of TON 618's black hole boggles the mind, showcasing the almost incomprehensible vastness of our universe.\n"
     ]
    }
   ],
   "source": [
    "get_answer(\n",
    "    system_prompt,\n",
    "    question,\n",
    "    model_name=\"gpt-4\",\n",
    "    provider=\"openai\",\n",
    ")"
   ]
  },
  {
   "cell_type": "code",
   "execution_count": 10,
   "metadata": {},
   "outputs": [
    {
     "name": "stdout",
     "output_type": "stream",
     "text": [
      "Tokens Used: 629\n",
      "\tPrompt Tokens: 160\n",
      "\tCompletion Tokens: 469\n",
      "Successful Requests: 1\n",
      "Total Cost (USD): $0.06588\n",
      "\n",
      "Sagittarius A* and TON 618 are both cosmic entities that exemplify the grandeur of the universe. Let's explore each of them individually and then make some comparisons to help us better understand their immense scale.\n",
      "\n",
      "Sagittarius A* is a supermassive black hole located at the heart of our Milky Way galaxy. Picture a void so massive that it weighs around 4.1 million times the mass of our Sun. To bring this into perspective, imagine the weight of 4.1 million celestial giants like our Sun, all concentrated in a single point. This black hole is situated approximately 26,000 light-years away from the Earth. If you were to travel at the speed of light, it would take you 26,000 years to reach it.\n",
      "\n",
      "Now let's talk about TON 618. This celestial object is a quasar, which is an incredibly luminous active galactic nucleus powered by a supermassive black hole. Think of it as a beacon of light shining across the cosmos. TON 618 is one of the most massive known black holes in the universe, with an estimated mass of 66 billion times that of our Sun. This is equivalent to the mass of 66 billion Suns squeezed into a single point. Imagine the gravitational pull that this tremendous mass exerts on its surroundings. The distance between TON 618 and Earth is staggering, as it is located about 10.4 billion light-years away. So, the light we see from TON 618 today actually started its journey towards us 10.4 billion years ago.\n",
      "\n",
      "In comparison, Sagittarius A* may seem like a tiny speck next to the gargantuan TON 618. To help you visualize this, picture the Earth as a marble and the Sun as a basketball. In this analogy, Sagittarius A* would be a small mountain, while TON 618 would be a colossal mountain range, dwarfing the smaller mountain.\n",
      "\n",
      "Both Sagittarius A* and TON 618 are fascinating objects that showcase the vastness and diversity of the universe. While Sagittarius A* is an impressive supermassive black hole in our own galaxy, TON 618 represents a whole new level of size and mass, pushing the boundaries of our understanding of the cosmos.\n"
     ]
    }
   ],
   "source": [
    "get_answer(\n",
    "    system_prompt,\n",
    "    question,\n",
    "    model_name=\"gpt-4\",\n",
    "    provider=\"azure\",\n",
    ")"
   ]
  },
  {
   "cell_type": "code",
   "execution_count": 11,
   "metadata": {},
   "outputs": [
    {
     "name": "stdout",
     "output_type": "stream",
     "text": [
      "Tokens Used: 771\n",
      "\tPrompt Tokens: 160\n",
      "\tCompletion Tokens: 611\n",
      "Successful Requests: 1\n",
      "Total Cost (USD): $0.01993\n",
      "\n",
      "### Sagittarius A*\n",
      "\n",
      "Imagine standing in the heart of a bustling city, where every road and every pathway converges into a central square. This vivid scene is somewhat analogous to Sagittarius A* (pronounced \"Sagittarius A-Star\"), the supermassive black hole residing at the Milky Way's core. It's like the downtown of our galaxy, where an immense gravitational pull attracts stars, gas, and cosmic dust, orchestrating a cosmic ballet around this invisible yet profound entity.\n",
      "\n",
      "Sagittarius A* is a colossus, harboring about 4 million times the mass of our Sun. To put that into perspective, if the Sun were a single grain of sand, Sagittarius A* would be a large boulder weighing as much as 4 million grains of sand! Despite its mass, it's relatively compact, fitting within a region much smaller than our solar system.\n",
      "\n",
      "Located approximately 26,000 light-years from Earth, Sagittarius A* is relatively close in cosmic terms. A light-year is the distance light travels in a year, about 9.46 trillion kilometers (or about 5.88 trillion miles). So, when we peer at the center of our galaxy, we're looking back in time 26,000 years, witnessing the echoes of a distant past.\n",
      "\n",
      "### TON 618\n",
      "\n",
      "Now, let's journey far beyond the Milky Way to encounter TON 618, one of the most massive black holes known to humanity. This celestial titan is like a cosmic giant among ants when compared to our local supermassive black hole, Sagittarius A*.\n",
      "\n",
      "TON 618 is a quasar, an extraordinarily bright and distant celestial object powered by a supermassive black hole surrounded by a disk of gas and dust that spirals into it, releasing incredible amounts of energy. The black hole at the heart of TON 618 is a staggering 66 billion times the mass of the Sun. Imagine if each grain of sand on a beach represented a sun; TON 618 would then be equivalent to a mountain of sand, each grain a sun in its own right.\n",
      "\n",
      "Located about 10.4 billion light-years from Earth, TON 618 shines from the dawn of the universe, its light taking over 10 billion years to reach us. Observing TON 618 is like looking through a time machine, seeing the universe as it was when it was less than a third of its current age.\n",
      "\n",
      "The enormity of TON 618 and its quasar's brilliance illuminate the depths of our universe, showcasing the incredible diversity and scale of cosmic phenomena. From the bustling streets of our galactic center, Sagittarius A*, to the distant and ancient light of TON 618, the universe invites us to marvel at its wonders, both near and far.\n",
      "\n",
      "Through these comparisons, we bridge the gap between the vast, incomprehensible scale of the cosmos and our everyday experiences, making the wonders of the universe more accessible and truly awe-inspiring.\n"
     ]
    }
   ],
   "source": [
    "get_answer(\n",
    "    system_prompt,\n",
    "    question,\n",
    "    model_name=\"gpt-4-turbo\",\n",
    "    provider=\"openai\",\n",
    ")"
   ]
  },
  {
   "cell_type": "code",
   "execution_count": 12,
   "metadata": {},
   "outputs": [
    {
     "name": "stdout",
     "output_type": "stream",
     "text": [
      "Tokens Used: 820\n",
      "\tPrompt Tokens: 160\n",
      "\tCompletion Tokens: 660\n",
      "Successful Requests: 1\n",
      "Total Cost (USD): $0.0444\n",
      "\n",
      "### Sagittarius A*\n",
      "\n",
      "Imagine standing at the heart of our Milky Way galaxy. Here, amidst a dazzling sea of stars, lies a cosmic behemoth—a supermassive black hole known as Sagittarius A* (pronounced \"Sagittarius A-star\"). This celestial giant is invisible in the regular spectrum of light, but astronomers can detect its presence by observing the stars and gas clouds swirling around it, much like water circling a drain before plunging in.\n",
      "\n",
      "Now, to grasp the sheer scale of Sagittarius A*, let's start with some numbers. It's about 26,000 light-years away from us. In more familiar terms, if you could travel at the speed of light (about 670 million mph), it would still take you 26,000 years to get there from Earth. Sagittarius A* has a mass roughly 4 million times that of our Sun. Imagine our Sun, which accounts for about 99.86% of the Solar System's mass, and then multiply that heft by 4 million. Yet, for all its mass, the event horizon (the point beyond which nothing can escape its gravitational pull) is only about 17 times wider than the Sun. If you could somehow replace the Sun in our solar system with Sagittarius A*, it would fit comfortably inside the orbit of Mercury with vast room to spare.\n",
      "\n",
      "### TON 618\n",
      "\n",
      "Now, let's journey beyond our galaxy to meet a true cosmic titan, TON 618. This is a quasar, the incredibly bright core of a galaxy where a supermassive black hole resides, actively devouring material and spewing out immense amounts of energy. TON 618 is one of the largest black holes ever discovered, and it's located an astonishing 10.4 billion light-years from Earth. To give you a sense of this distance: if you started traveling to TON 618 at the speed of light just after the Earth was formed, you wouldn't even be halfway there by now.\n",
      "\n",
      "TON 618 has a mass about 66 billion times that of our Sun. To put that in perspective, it's as if you combined the mass of every star in the Milky Way, then did it again multiple times. Despite its mass, we can't directly see TON 618. What we actually observe is the quasar it powers, shining as one of the brightest objects in the universe due to the superheated material spiraling into the black hole's maw. The scale of this luminosity is hard to fathom, but imagine the Sun, then picture something billions of times brighter, and you start to get the idea.\n",
      "\n",
      "In summary, both Sagittarius A* and TON 618 serve as awe-inspiring examples of the universe's extremes. From the relatively modest yet still mind-boggling supermassive black hole at the center of our Milky Way to the staggering, almost incomprehensible scale of TON 618, these cosmic phenomena challenge our understanding and expand our sense of the vastness that surrounds us. Through them, we glimpse not only the immense diversity of the cosmos but also the incredible scales over which it operates—reminding us of the universe's endless capacity to astonish and inspire.\n"
     ]
    }
   ],
   "source": [
    "get_answer(\n",
    "    system_prompt,\n",
    "    question,\n",
    "    model_name=\"gpt-4-turbo\",\n",
    "    provider=\"azure\",\n",
    ")"
   ]
  }
 ],
 "metadata": {
  "kernelspec": {
   "display_name": "base",
   "language": "python",
   "name": "python3"
  },
  "language_info": {
   "codemirror_mode": {
    "name": "ipython",
    "version": 3
   },
   "file_extension": ".py",
   "mimetype": "text/x-python",
   "name": "python",
   "nbconvert_exporter": "python",
   "pygments_lexer": "ipython3",
   "version": "3.11.7"
  }
 },
 "nbformat": 4,
 "nbformat_minor": 2
}
